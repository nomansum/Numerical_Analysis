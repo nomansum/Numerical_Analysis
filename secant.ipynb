{
 "cells": [
  {
   "cell_type": "code",
   "execution_count": 2,
   "id": "fb6eedd5-ae56-4404-9ded-f7a9b0528954",
   "metadata": {},
   "outputs": [
    {
     "name": "stdout",
     "output_type": "stream",
     "text": [
      " Please enter the function to find root using Secant Method \n"
     ]
    },
    {
     "name": "stdin",
     "output_type": "stream",
     "text": [
      " x**3 - 0.165*(x**2) + 3.993E-4\n"
     ]
    },
    {
     "name": "stdout",
     "output_type": "stream",
     "text": [
      " Please input the X(-1) guess for finding the root \n"
     ]
    },
    {
     "name": "stdin",
     "output_type": "stream",
     "text": [
      " 0.02\n"
     ]
    },
    {
     "name": "stdout",
     "output_type": "stream",
     "text": [
      "Please input the X(0) guess for finding the root\n"
     ]
    },
    {
     "name": "stdin",
     "output_type": "stream",
     "text": [
      " 0.05\n"
     ]
    },
    {
     "name": "stdout",
     "output_type": "stream",
     "text": [
      "Enter the number of iterations\n"
     ]
    },
    {
     "name": "stdin",
     "output_type": "stream",
     "text": [
      " 10\n"
     ]
    },
    {
     "name": "stdout",
     "output_type": "stream",
     "text": [
      "Enter the max error tolerance\n"
     ]
    },
    {
     "name": "stdin",
     "output_type": "stream",
     "text": [
      " 0.1\n"
     ]
    },
    {
     "name": "stdout",
     "output_type": "stream",
     "text": [
      "Division By Zero Error Before completing provided iterations\n",
      "   Iterations    X(i-1)      X(i)    X(i+1)      Error(%)         F(Xi)\n",
      "0           1  0.020000  0.050000  0.064614           NaN -1.981177e-05\n",
      "1           2  0.050000  0.064614  0.062414  3.524714e+00 -3.285184e-07\n",
      "2           3  0.064614  0.062414  0.062377  5.946757e-02  2.025246e-09\n",
      "3           4  0.062414  0.062377  0.062378  3.643574e-04 -1.857582e-13\n",
      "4           5  0.062377  0.062378  0.062378  3.341627e-08  0.000000e+00\n",
      "5           6  0.062378  0.062378  0.062378  0.000000e+00  0.000000e+00\n",
      "6           7  0.062378  0.062378  0.062378  0.000000e+00  0.000000e+00\n",
      "The Root is 0.0623775815137495 with error 0.0\n"
     ]
    },
    {
     "data": {
      "image/png": "[encoded data removed]",
      "text/plain": [
       "<Figure size 1080x1080 with 2 Axes>"
      ]
     },
     "metadata": {
      "needs_background": "light"
     },
     "output_type": "display_data"
    }
   ],
   "source": [
    "# 2019331076\n",
    "#Secant Method\n",
    "#remove comment if not installed the required modules in your pc\n",
    "#!pip install matplotlib\n",
    "#!pip install pandas\n",
    "#!pip install numpy\n",
    "import pandas as pd\n",
    "import numpy as np\n",
    "import matplotlib.pyplot as plt\n",
    "import math\n",
    "from sympy import *\n",
    "\n",
    "def f(x, func):\n",
    "    val = eval(func)\n",
    "    return val\n",
    "\n",
    "\n",
    "def secant_method(func,x0,x1,iterations,error_tolerance):\n",
    "    \n",
    "    iteration_list = []\n",
    "    \n",
    "    Xi_prev = []\n",
    "    \n",
    "    Xi = []\n",
    "    \n",
    "    Xi_1 = []\n",
    "    \n",
    "    error_list = []\n",
    "    \n",
    "    func_list = []\n",
    "    \n",
    "    cnt = 1\n",
    "    xi = 1\n",
    "    \n",
    "    while cnt<=iterations:\n",
    "        \n",
    "        iteration_list.append(cnt)\n",
    "        \n",
    "        \n",
    "        Xi_prev.append(x0)\n",
    "        \n",
    "        Xi.append(x1)\n",
    "        \n",
    "        try:\n",
    "            xi = x1 - ( ( f(x1,func) * (x1 - x0) )/ ( f(x1,func) - f(x0,func) )*1.00   )\n",
    "            \n",
    "        except:\n",
    "            print(\"Division By Zero Error Before completing provided iterations\")\n",
    "            Xi_1.append(Xi_1[-1])\n",
    "            error_list.append(error_list[-1])\n",
    "            func_list.append(func_list[-1])\n",
    "            break\n",
    "            \n",
    "            \n",
    "        Xi_1.append(xi)\n",
    "        \n",
    "        x0=x1\n",
    "        x1=xi\n",
    "        \n",
    "        if(cnt == 1):\n",
    "            error_list.append(np.nan)\n",
    "            \n",
    "        else:\n",
    "            error=( abs(xi-x0)/abs(xi*1.00) )*100.0\n",
    "            error_list.append(error)\n",
    "            \n",
    "        func_list.append(f(xi,func))\n",
    "        \n",
    "        cnt = cnt + 1\n",
    "        \n",
    "        \n",
    "        \n",
    "    data_table = pd.DataFrame({\"Iterations\":iteration_list,\"X(i-1)\":Xi_prev,\"X(i)\":Xi,\"X(i+1)\":Xi_1,\"Error(%)\":error_list,\"F(Xi)\":func_list})\n",
    "    \n",
    "    print(data_table)\n",
    "    \n",
    "    print(\"The Root is \"+ str(xi) + \" with error \"+str(error))\n",
    "    if(error>error_tolerance):\n",
    "        print(\"Can't get accurate result you wanted due to iteration limitations\")\n",
    "    \n",
    "    \n",
    "    \n",
    "    \n",
    "    x=np.array(Xi_1)\n",
    "    y=np.array(func_list)\n",
    "    plt.figure(figsize=(15,15))\n",
    "    plt.subplot(2,1,1)\n",
    "    plt.xlabel(\"X\")\n",
    "    plt.ylabel(\"F(X)\")\n",
    "    plt.axhline(y = 0.0, color = 'r', linestyle = '-')\n",
    "    plt.axvline(x=0.0,color='r')\n",
    "    plt.plot(x,y)\n",
    "    x=np.array(iteration_list )\n",
    "    y=np.array(error_list)\n",
    "    plt.subplot(2,1,2)\n",
    "    plt.xlabel(\"Iteration\")\n",
    "    plt.ylabel(\"Error\")\n",
    "    plt.axhline(y = 0.0, color = 'r', linestyle = '-')\n",
    "    plt.axvline(x=0.0,color='r')\n",
    "    plt.plot(x,y)\n",
    "        \n",
    "    \n",
    "\n",
    "        \n",
    "\n",
    "\n",
    "\n",
    "print(\" Please enter the function to find root using Secant Method \")\n",
    "func = input()\n",
    "\n",
    "while True:\n",
    "    print(\" Please input the X(-1) guess for finding the root \")\n",
    "    x0 = float(input())\n",
    "    print(\"Please input the X(0) guess for finding the root\")\n",
    "    x1 = float(input())\n",
    "    print(\"Enter the number of iterations\")\n",
    "    iterations = int(input())\n",
    "    print(\"Enter the max error tolerance\")\n",
    "    error_tolerance = float(input())\n",
    "    \n",
    "    if(f(x1,func)-f(x0,func)==0):\n",
    "        print(\"Division by zero error please provide another guess\")\n",
    "        \n",
    "    else:\n",
    "        secant_method(func,x0,x1,iterations,error_tolerance)\n",
    "        break\n",
    "    \n",
    "\n",
    "    \n",
    "\n",
    "        \n",
    "        \n",
    "        \n",
    "\n",
    "    \n",
    "    \n",
    "    \n",
    "    \n",
    "    \n"
   ]
  }
 ],
 "metadata": {
  "kernelspec": {
   "display_name": "Python 3 (ipykernel)",
   "language": "python",
   "name": "python3"
  },
  "language_info": {
   "codemirror_mode": {
    "name": "ipython",
    "version": 3
   },
   "file_extension": ".py",
   "mimetype": "text/x-python",
   "name": "python",
   "nbconvert_exporter": "python",
   "pygments_lexer": "ipython3",
   "version": "3.9.12"
  }
 },
 "nbformat": 4,
 "nbformat_minor": 5
}
