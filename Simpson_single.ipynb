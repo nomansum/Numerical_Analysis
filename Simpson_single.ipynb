{
 "cells": [
  {
   "cell_type": "code",
   "execution_count": null,
   "id": "cfd11d28",
   "metadata": {},
   "outputs": [],
   "source": [
    "## SIMPSON 2 SEGMENT\n",
    "#2019331076\n",
    "from sympy import *\n",
    "\n",
    "def function_val( function , x ):\n",
    "    return eval( function )\n",
    "    \n",
    "    \n",
    "def simpson_2_segment( function , a , b ):\n",
    "    \n",
    "    fa = function_val( function , a )\n",
    "    \n",
    "    fb = function_val( function , b )\n",
    "    \n",
    "    mid = ( a + b )/2.0\n",
    "    \n",
    "    h = ( b - a ) / 2.0\n",
    "    \n",
    "    fm = function_val( function, mid )\n",
    "    \n",
    "    result = ( h / 3.0 ) * ( fa + 4.0 * fm + fb )\n",
    "    \n",
    "    return result\n",
    "    \n",
    "    \n",
    "function = input(\" Enter the function you want to integrate using simpson 2-segment rule :\\n\" ) \n",
    "\n",
    "lower_limit = float ( input ( \"Enter the lower limit :\\n\" ) )\n",
    "\n",
    "upper_limit = float ( input ( \"Enter the higher limit :\\n\" ) )\n",
    "\n",
    "result = simpson_2_segment( function , lower_limit , upper_limit )\n",
    "    \n",
    "print(\" Total area of the function using simpson 2 segment rule is : {}\".format(result))  \n",
    "\n",
    "\n",
    "\n",
    "\n",
    "\n",
    "\n",
    "\n"
   ]
  }
 ],
 "metadata": {
  "kernelspec": {
   "display_name": "Python 3 (ipykernel)",
   "language": "python",
   "name": "python3"
  },
  "language_info": {
   "codemirror_mode": {
    "name": "ipython",
    "version": 3
   },
   "file_extension": ".py",
   "mimetype": "text/x-python",
   "name": "python",
   "nbconvert_exporter": "python",
   "pygments_lexer": "ipython3",
   "version": "3.9.12"
  }
 },
 "nbformat": 4,
 "nbformat_minor": 5
}
