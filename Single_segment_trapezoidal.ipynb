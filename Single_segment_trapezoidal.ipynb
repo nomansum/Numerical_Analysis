{
 "cells": [
  {
   "cell_type": "code",
   "execution_count": null,
   "id": "420ed8fa",
   "metadata": {},
   "outputs": [],
   "source": [
    "##SINGLE SEGMENT TRAPEZOIDAL RULE\n",
    "from sympy import *\n",
    "\n",
    "def function_val( function , x ):\n",
    "    return eval( function )\n",
    "    \n",
    "    \n",
    "def single_segment_trapezoidal_area( function , a , b ):\n",
    "    \n",
    "    fa = function_val( function , a )\n",
    "    \n",
    "    fb = function_val( function , b )\n",
    "    \n",
    "    result = 0.5 * ( fa + fb ) * ( b - a )\n",
    "    \n",
    "    return result\n",
    "    \n",
    "    \n",
    "function = input(\" Enter the function you want to integrate using trapezoidal rule :\\n\" ) \n",
    "\n",
    "lower_limit = float ( input ( \"Enter the lower limit :\\n\" ) )\n",
    "\n",
    "upper_limit = float ( input ( \"Enter the higher limit :\\n\" ) )\n",
    "\n",
    "result = single_segment_trapezoidal_area( function , lower_limit , upper_limit )\n",
    "    \n",
    "print(\" Total area of the function using single segment trapezoidal rule is : {}\".format(result))  \n",
    "\n",
    "\n",
    "\n"
   ]
  }
 ],
 "metadata": {
  "kernelspec": {
   "display_name": "Python 3 (ipykernel)",
   "language": "python",
   "name": "python3"
  },
  "language_info": {
   "codemirror_mode": {
    "name": "ipython",
    "version": 3
   },
   "file_extension": ".py",
   "mimetype": "text/x-python",
   "name": "python",
   "nbconvert_exporter": "python",
   "pygments_lexer": "ipython3",
   "version": "3.9.12"
  }
 },
 "nbformat": 4,
 "nbformat_minor": 5
}
